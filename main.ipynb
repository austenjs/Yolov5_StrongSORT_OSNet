{
 "cells": [
  {
   "cell_type": "code",
   "execution_count": null,
   "metadata": {},
   "outputs": [],
   "source": [
    "import requests\n",
    "\n",
    "from IPython.display import Image, clear_output  # to display images\n",
    "import torch\n",
    "\n",
    "print(f\"Using torch {torch.__version__} ({torch.cuda.get_device_properties(0).name if torch.cuda.is_available() else 'CPU'})\")"
   ]
  },
  {
   "cell_type": "code",
   "execution_count": null,
   "metadata": {},
   "outputs": [],
   "source": [
    "# get yolov5m model trained on the crowd-human dataset\n",
    "weight_url = 'https://github.com/austenjs/Yolov5_StrongSORT_OSNet/releases/download/First/crowdhuman_yolov5m.pt'\n",
    "response = requests.get(weight_url)\n",
    "weight_name = 'crowdhuman_yolov5m.pt'\n",
    "open(weight_name, \"wb\").write(response.content)"
   ]
  },
  {
   "cell_type": "code",
   "execution_count": null,
   "metadata": {},
   "outputs": [],
   "source": [
    "# get a 5 seconds sample video from the repo\n",
    "video_url = 'https://github.com/austenjs/Yolov5_StrongSORT_OSNet/releases/download/First/sample_video.mp4'\n",
    "response = requests.get(video_url)\n",
    "video_name = 'test.avi'\n",
    "open(video_name, \"wb\").write(response.content)"
   ]
  },
  {
   "cell_type": "code",
   "execution_count": null,
   "metadata": {},
   "outputs": [],
   "source": [
    "# Show video in real-life (Note: a bit laggy on CPU). The video is also saved at folder runs/track/.\n",
    "!python track.py \\\n",
    "    --yolo-weights crowdhuman_yolov5m.pt \\\n",
    "    --strong-sort-weights osnet_x0_25_msmt17.pt \\\n",
    "    --source test.avi \\\n",
    "    --show-vid \\\n",
    "    --save-vid"
   ]
  },
  {
   "cell_type": "code",
   "execution_count": null,
   "metadata": {},
   "outputs": [],
   "source": []
  }
 ],
 "metadata": {
  "kernelspec": {
   "display_name": "Python 3.7.13",
   "language": "python",
   "name": "python3"
  },
  "language_info": {
   "codemirror_mode": {
    "name": "ipython",
    "version": 3
   },
   "file_extension": ".py",
   "mimetype": "text/x-python",
   "name": "python",
   "nbconvert_exporter": "python",
   "pygments_lexer": "ipython3",
   "version": "3.7.13"
  },
  "orig_nbformat": 4,
  "vscode": {
   "interpreter": {
    "hash": "f79abfb33a86d6e338fb24c992798b392b588be77b3f955e37b9e1646e18a59c"
   }
  }
 },
 "nbformat": 4,
 "nbformat_minor": 2
}
